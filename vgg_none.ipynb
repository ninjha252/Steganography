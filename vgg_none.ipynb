{
 "cells": [
  {
   "cell_type": "code",
   "execution_count": 3,
   "id": "ba825756-9f60-433d-ba3e-8bb9f1c1287f",
   "metadata": {},
   "outputs": [],
   "source": [
    "#!/usr/bin/env python3\n",
    "import random\n",
    "import numpy as np\n",
    "import pandas as pd\n",
    "from pathlib import Path\n",
    "\n",
    "import torch\n",
    "import torch.nn as nn\n",
    "from torch.optim import Adam\n",
    "from torch.utils.data import Dataset, DataLoader\n",
    "from torch.utils.tensorboard import SummaryWriter\n",
    "\n",
    "from torchvision import transforms\n",
    "from torchvision.models import vgg16, VGG16_Weights\n",
    "from PIL import Image\n",
    "from sklearn.model_selection import train_test_split\n",
    "from sklearn.metrics import (\n",
    "    confusion_matrix,\n",
    "    classification_report,\n",
    "    roc_auc_score,\n",
    "    roc_curve,\n",
    "    ConfusionMatrixDisplay\n",
    ")\n",
    "from tqdm import tqdm\n",
    "import matplotlib.pyplot as plt\n",
    "\n",
    "# ──────────────────────────────────────────────────────────────────────────────\n",
    "# 1) Config & reproducibility\n",
    "# ──────────────────────────────────────────────────────────────────────────────\n",
    "STEGO_CSV    = Path(\"csv/stego_final.csv\")\n",
    "IMAGES_DIR   = Path(\"Images\")\n",
    "BATCH_SIZE   = 32\n",
    "EPOCHS       = 25\n",
    "LR           = 1e-3\n",
    "WEIGHT_DECAY = 1e-4\n",
    "LABEL_SMOOTH = 0.1\n",
    "RANDOM_SEED  = 42\n",
    "\n",
    "random.seed(RANDOM_SEED)\n",
    "np.random.seed(RANDOM_SEED)\n",
    "torch.manual_seed(RANDOM_SEED)\n",
    "\n",
    "DEVICE = \"cuda:2\" if torch.cuda.is_available() else \"cpu\"\n",
    "\n",
    "# ──────────────────────────────────────────────────────────────────────────────\n",
    "# 2) Build & split DataFrame (2 classes: none vs lsb)\n",
    "# ──────────────────────────────────────────────────────────────────────────────\n",
    "df = pd.read_csv(STEGO_CSV)\n",
    "\n",
    "# keep only LSB stego images\n",
    "df_stego = df[df.method == \"lsb\"].copy()\n",
    "df_stego[\"label\"]    = \"lsb\"\n",
    "df_stego[\"img_path\"] = df_stego[\"stego_path\"]\n",
    "\n",
    "# sample equal number of cover images\n",
    "n_stego    = len(df_stego)\n",
    "all_images = list(IMAGES_DIR.glob(\"*\"))\n",
    "used_names = set(Path(p).name for p in df_stego[\"img_path\"])\n",
    "candidates = [str(p) for p in all_images if p.name not in used_names]\n",
    "df_none = pd.DataFrame({\n",
    "    \"label\":    [\"none\"] * n_stego,\n",
    "    \"img_path\": random.sample(candidates, n_stego)\n",
    "})\n",
    "\n",
    "# combine & shuffle\n",
    "df2 = pd.concat([df_stego[[\"label\",\"img_path\"]], df_none], ignore_index=True)\n",
    "df2 = df2.sample(frac=1, random_state=RANDOM_SEED).reset_index(drop=True)\n",
    "\n",
    "# stratified train/val/test split\n",
    "df_train, df_test = train_test_split(\n",
    "    df2, test_size=0.30, stratify=df2[\"label\"], random_state=RANDOM_SEED\n",
    ")\n",
    "df_train, df_val  = train_test_split(\n",
    "    df_train, test_size=0.20, stratify=df_train[\"label\"], random_state=RANDOM_SEED\n",
    ")\n",
    "\n",
    "# ──────────────────────────────────────────────────────────────────────────────\n",
    "# 3) Dataset & DataLoaders\n",
    "# ──────────────────────────────────────────────────────────────────────────────\n",
    "label_map = {\"none\": 0, \"lsb\": 1}\n",
    "\n",
    "train_tf = transforms.Compose([\n",
    "    transforms.RandomResizedCrop(224, scale=(0.8,1.0)),\n",
    "    transforms.RandomHorizontalFlip(),\n",
    "    transforms.RandomRotation(10),\n",
    "    transforms.ToTensor(),\n",
    "    transforms.Normalize([0.485,0.456,0.406],\n",
    "                         [0.229,0.224,0.225]),\n",
    "])\n",
    "val_tf = transforms.Compose([\n",
    "    transforms.Resize(256),\n",
    "    transforms.CenterCrop(224),\n",
    "    transforms.ToTensor(),\n",
    "    transforms.Normalize([0.485,0.456,0.406],\n",
    "                         [0.229,0.224,0.225]),\n",
    "])\n",
    "\n",
    "class Stego2Dataset(Dataset):\n",
    "    def __init__(self, df, tf):\n",
    "        self.df = df.reset_index(drop=True)\n",
    "        self.tf = tf\n",
    "    def __len__(self):\n",
    "        return len(self.df)\n",
    "    def __getitem__(self, idx):\n",
    "        row   = self.df.iloc[idx]\n",
    "        img   = Image.open(row.img_path).convert(\"RGB\")\n",
    "        img   = self.tf(img)\n",
    "        label = label_map[row.label]\n",
    "        return img, label\n",
    "\n",
    "train_loader = DataLoader(\n",
    "    Stego2Dataset(df_train, train_tf),\n",
    "    batch_size=BATCH_SIZE, shuffle=True,\n",
    "    num_workers=4, pin_memory=True\n",
    ")\n",
    "val_loader = DataLoader(\n",
    "    Stego2Dataset(df_val,   val_tf),\n",
    "    batch_size=BATCH_SIZE, shuffle=False,\n",
    "    num_workers=4, pin_memory=True\n",
    ")\n",
    "test_loader = DataLoader(\n",
    "    Stego2Dataset(df_test,  val_tf),\n",
    "    batch_size=BATCH_SIZE, shuffle=False,\n",
    "    num_workers=4, pin_memory=True\n",
    ")\n",
    "\n"
   ]
  },
  {
   "cell_type": "code",
   "execution_count": null,
   "id": "33b4143c-c6ce-4e95-b3ee-d7c733093b33",
   "metadata": {},
   "outputs": [
    {
     "name": "stderr",
     "output_type": "stream",
     "text": [
      "                                                                                \r"
     ]
    },
    {
     "name": "stdout",
     "output_type": "stream",
     "text": [
      "Epoch 1/25  Train loss=1.1288, acc=0.5188   Val loss=0.7165, acc=0.5000\n",
      " → new best!\n"
     ]
    },
    {
     "name": "stderr",
     "output_type": "stream",
     "text": [
      "                                                                                \r"
     ]
    },
    {
     "name": "stdout",
     "output_type": "stream",
     "text": [
      "Epoch 2/25  Train loss=0.7022, acc=0.4804   Val loss=0.6957, acc=0.5000\n"
     ]
    },
    {
     "name": "stderr",
     "output_type": "stream",
     "text": [
      "                                                                                \r"
     ]
    },
    {
     "name": "stdout",
     "output_type": "stream",
     "text": [
      "Epoch 3/25  Train loss=0.6987, acc=0.5080   Val loss=0.6939, acc=0.5000\n"
     ]
    },
    {
     "name": "stderr",
     "output_type": "stream",
     "text": [
      "                                                                                \r"
     ]
    },
    {
     "name": "stdout",
     "output_type": "stream",
     "text": [
      "Epoch 4/25  Train loss=0.6960, acc=0.4920   Val loss=0.7011, acc=0.5000\n"
     ]
    },
    {
     "name": "stderr",
     "output_type": "stream",
     "text": [
      "                                                                                \r"
     ]
    },
    {
     "name": "stdout",
     "output_type": "stream",
     "text": [
      "Epoch 5/25  Train loss=0.6982, acc=0.4884   Val loss=0.6938, acc=0.5000\n"
     ]
    },
    {
     "name": "stderr",
     "output_type": "stream",
     "text": [
      "                                                                                \r"
     ]
    },
    {
     "name": "stdout",
     "output_type": "stream",
     "text": [
      "Epoch 6/25  Train loss=0.7070, acc=0.4830   Val loss=0.6989, acc=0.5000\n"
     ]
    },
    {
     "name": "stderr",
     "output_type": "stream",
     "text": [
      "                                                                                \r"
     ]
    },
    {
     "name": "stdout",
     "output_type": "stream",
     "text": [
      "Epoch 7/25  Train loss=0.6989, acc=0.4955   Val loss=0.6932, acc=0.5000\n"
     ]
    },
    {
     "name": "stderr",
     "output_type": "stream",
     "text": [
      "                                                                                \r"
     ]
    },
    {
     "name": "stdout",
     "output_type": "stream",
     "text": [
      "Epoch 8/25  Train loss=0.6933, acc=0.5214   Val loss=0.6942, acc=0.5000\n"
     ]
    },
    {
     "name": "stderr",
     "output_type": "stream",
     "text": [
      "                                                                                \r"
     ]
    },
    {
     "name": "stdout",
     "output_type": "stream",
     "text": [
      "Epoch 9/25  Train loss=0.7157, acc=0.4813   Val loss=0.6977, acc=0.5000\n"
     ]
    },
    {
     "name": "stderr",
     "output_type": "stream",
     "text": [
      "                                                                                \r"
     ]
    },
    {
     "name": "stdout",
     "output_type": "stream",
     "text": [
      "Epoch 10/25  Train loss=0.8827, acc=0.5232   Val loss=0.7193, acc=0.5000\n"
     ]
    },
    {
     "name": "stderr",
     "output_type": "stream",
     "text": [
      "                                                                                \r"
     ]
    },
    {
     "name": "stdout",
     "output_type": "stream",
     "text": [
      "Epoch 11/25  Train loss=0.7204, acc=0.5089   Val loss=0.6934, acc=0.5000\n"
     ]
    },
    {
     "name": "stderr",
     "output_type": "stream",
     "text": [
      "                                                                                \r"
     ]
    },
    {
     "name": "stdout",
     "output_type": "stream",
     "text": [
      "Epoch 12/25  Train loss=0.6967, acc=0.4893   Val loss=0.6933, acc=0.5000\n"
     ]
    },
    {
     "name": "stderr",
     "output_type": "stream",
     "text": [
      "                                                                                \r"
     ]
    },
    {
     "name": "stdout",
     "output_type": "stream",
     "text": [
      "Epoch 13/25  Train loss=0.7005, acc=0.5116   Val loss=0.7008, acc=0.5000\n"
     ]
    },
    {
     "name": "stderr",
     "output_type": "stream",
     "text": [
      "                                                                                \r"
     ]
    },
    {
     "name": "stdout",
     "output_type": "stream",
     "text": [
      "Epoch 14/25  Train loss=0.6963, acc=0.5054   Val loss=0.6937, acc=0.5000\n"
     ]
    },
    {
     "name": "stderr",
     "output_type": "stream",
     "text": [
      "                                                                                \r"
     ]
    },
    {
     "name": "stdout",
     "output_type": "stream",
     "text": [
      "Epoch 15/25  Train loss=0.6949, acc=0.4875   Val loss=0.6932, acc=0.5000\n"
     ]
    },
    {
     "name": "stderr",
     "output_type": "stream",
     "text": [
      "                                                                                \r"
     ]
    },
    {
     "name": "stdout",
     "output_type": "stream",
     "text": [
      "Epoch 16/25  Train loss=0.6965, acc=0.4946   Val loss=0.6932, acc=0.5000\n"
     ]
    },
    {
     "name": "stderr",
     "output_type": "stream",
     "text": [
      "                                                                                \r"
     ]
    },
    {
     "name": "stdout",
     "output_type": "stream",
     "text": [
      "Epoch 17/25  Train loss=0.6948, acc=0.5062   Val loss=0.6955, acc=0.5000\n"
     ]
    },
    {
     "name": "stderr",
     "output_type": "stream",
     "text": [
      "                                                                                \r"
     ]
    },
    {
     "name": "stdout",
     "output_type": "stream",
     "text": [
      "Epoch 18/25  Train loss=0.6947, acc=0.5107   Val loss=0.6937, acc=0.5000\n"
     ]
    },
    {
     "name": "stderr",
     "output_type": "stream",
     "text": [
      "Val  :   0%|                                              | 0/9 [00:00<?, ?it/s]"
     ]
    }
   ],
   "source": [
    "# ──────────────────────────────────────────────────────────────────────────────\n",
    "# 4) Model: VGG-16 → 2-way head\n",
    "# ──────────────────────────────────────────────────────────────────────────────\n",
    "model = vgg16(weights=VGG16_Weights.IMAGENET1K_V1)\n",
    "in_f = model.classifier[6].in_features\n",
    "model.classifier[6] = nn.Linear(in_f, 2)\n",
    "model = model.to(DEVICE)\n",
    "\n",
    "# ──────────────────────────────────────────────────────────────────────────────\n",
    "# 5) Loss, optimizer (fixed LR), TensorBoard\n",
    "# ──────────────────────────────────────────────────────────────────────────────\n",
    "# inverse-frequency class weights\n",
    "counts = df2.label.value_counts().to_dict()\n",
    "total = len(df2)\n",
    "weights = [ total/(2*counts[c]) for c in [\"none\",\"lsb\"] ]\n",
    "class_weights = torch.tensor(weights, device=DEVICE)\n",
    "\n",
    "criterion = nn.CrossEntropyLoss(\n",
    "    weight=class_weights,\n",
    "    label_smoothing=LABEL_SMOOTH\n",
    ")\n",
    "optimizer = Adam(\n",
    "    model.parameters(),\n",
    "    lr=LR,\n",
    "    weight_decay=WEIGHT_DECAY\n",
    ")\n",
    "\n",
    "writer       = SummaryWriter(\"runs/stego_vgg2_fixedlr\")\n",
    "train_losses = []; val_losses = []\n",
    "train_accs   = []; val_accs   = []\n",
    "\n",
    "# ──────────────────────────────────────────────────────────────────────────────\n",
    "# 6) Training & validation loops\n",
    "# ──────────────────────────────────────────────────────────────────────────────\n",
    "def train_epoch():\n",
    "    model.train()\n",
    "    loss_sum = correct = total = 0\n",
    "    for imgs, lbls in tqdm(train_loader, desc=\"Train\", leave=False):\n",
    "        imgs, lbls = imgs.to(DEVICE), lbls.to(DEVICE)\n",
    "        optimizer.zero_grad()\n",
    "        out  = model(imgs)\n",
    "        loss = criterion(out, lbls)\n",
    "        loss.backward()\n",
    "        optimizer.step()\n",
    "\n",
    "        loss_sum += loss.item() * lbls.size(0)\n",
    "        preds    = out.argmax(dim=1)\n",
    "        correct  += (preds==lbls).sum().item()\n",
    "        total    += lbls.size(0)\n",
    "    return loss_sum/total, correct/total\n",
    "\n",
    "@torch.no_grad()\n",
    "def validate():\n",
    "    model.eval()\n",
    "    loss_sum = correct = total = 0\n",
    "    for imgs, lbls in tqdm(val_loader, desc=\"Val  \", leave=False):\n",
    "        imgs, lbls = imgs.to(DEVICE), lbls.to(DEVICE)\n",
    "        out  = model(imgs)\n",
    "        loss = criterion(out, lbls)\n",
    "\n",
    "        loss_sum += loss.item() * lbls.size(0)\n",
    "        preds    = out.argmax(dim=1)\n",
    "        correct  += (preds==lbls).sum().item()\n",
    "        total    += lbls.size(0)\n",
    "    return loss_sum/total, correct/total\n",
    "\n",
    "best_val_acc = 0.0\n",
    "for epoch in range(1, EPOCHS+1):\n",
    "    tr_loss, tr_acc   = train_epoch()\n",
    "    val_loss, val_acc = validate()\n",
    "\n",
    "    train_losses.append(tr_loss);  val_losses.append(val_loss)\n",
    "    train_accs.append(tr_acc);     val_accs.append(val_acc)\n",
    "\n",
    "    writer.add_scalar(\"Loss/train\", tr_loss, epoch)\n",
    "    writer.add_scalar(\"Loss/val\",   val_loss, epoch)\n",
    "    writer.add_scalar(\"Acc/train\",  tr_acc,   epoch)\n",
    "    writer.add_scalar(\"Acc/val\",    val_acc,   epoch)\n",
    "\n",
    "    print(f\"Epoch {epoch}/{EPOCHS}  \"\n",
    "          f\"Train loss={tr_loss:.4f}, acc={tr_acc:.4f}  \"\n",
    "          f\" Val loss={val_loss:.4f}, acc={val_acc:.4f}\")\n",
    "\n",
    "    if val_acc > best_val_acc:\n",
    "        best_val_acc = val_acc\n",
    "        torch.save(model.state_dict(), \"best_vgg2_fixedlr.pth\")\n",
    "        print(\" → new best!\")\n",
    "\n",
    "writer.close()\n",
    "\n"
   ]
  },
  {
   "cell_type": "code",
   "execution_count": null,
   "id": "260e1ab8-8c58-4b23-94b4-940dad540438",
   "metadata": {},
   "outputs": [],
   "source": [
    "# ──────────────────────────────────────────────────────────────────────────────\n",
    "# 7) Plot Loss & Accuracy vs. Epoch\n",
    "# ──────────────────────────────────────────────────────────────────────────────\n",
    "epochs = range(1, EPOCHS+1)\n",
    "\n",
    "plt.figure(figsize=(8,5))\n",
    "plt.plot(epochs, train_accs, marker='o', label='Train Acc')\n",
    "plt.plot(epochs, val_accs,   marker='o', label='Val   Acc')\n",
    "plt.xlabel('Epoch'); plt.ylabel('Accuracy')\n",
    "plt.title('Accuracy vs. Epoch'); plt.legend(); plt.grid(True); plt.show()\n",
    "\n",
    "plt.figure(figsize=(8,5))\n",
    "plt.plot(epochs, train_losses, marker='o', label='Train Loss')\n",
    "plt.plot(epochs, val_losses,   marker='o', label='Val   Loss')\n",
    "plt.xlabel('Epoch'); plt.ylabel('Loss')\n",
    "plt.title('Loss vs. Epoch'); plt.legend(); plt.grid(True); plt.show()\n",
    "\n",
    "# ──────────────────────────────────────────────────────────────────────────────\n",
    "# 8) Test-set evaluation\n",
    "# ──────────────────────────────────────────────────────────────────────────────\n",
    "model.load_state_dict(torch.load(\"best_vgg2_fixedlr.pth\"))\n",
    "model.eval()\n",
    "\n",
    "all_lbls, all_preds, all_probs = [], [], []\n",
    "with torch.no_grad():\n",
    "    for imgs, lbls in test_loader:\n",
    "        imgs = imgs.to(DEVICE)\n",
    "        out  = model(imgs)\n",
    "        probs= torch.softmax(out, dim=1)[:,1].cpu().numpy()\n",
    "        preds= out.argmax(dim=1).cpu().numpy()\n",
    "\n",
    "        all_lbls.extend(lbls.numpy())\n",
    "        all_preds.extend(preds)\n",
    "        all_probs.extend(probs)\n",
    "\n",
    "# confusion matrix\n",
    "cm = confusion_matrix(all_lbls, all_preds)\n",
    "ConfusionMatrixDisplay(cm, display_labels=[\"none\",\"lsb\"])\\\n",
    "    .plot(cmap=\"Blues\")\n",
    "plt.title(\"Confusion Matrix (thr=0.5)\"); plt.show()\n",
    "\n",
    "# classification report\n",
    "print(classification_report(all_lbls, all_preds, target_names=[\"none\",\"lsb\"]))\n",
    "\n",
    "# ROC & AUC\n",
    "fpr, tpr, _ = roc_curve(all_lbls, all_probs)\n",
    "auc_score   = roc_auc_score(all_lbls, all_probs)\n",
    "plt.figure()\n",
    "plt.plot(fpr, tpr, label=f\"AUC = {auc_score:.4f}\")\n",
    "plt.plot([0,1],[0,1],\"k--\")\n",
    "plt.xlabel(\"FPR\"); plt.ylabel(\"TPR\")\n",
    "plt.title(\"ROC Curve\"); plt.legend(); plt.show()\n",
    "\n",
    "# optimal threshold\n",
    "opt_idx = np.argmax(tpr - fpr)\n",
    "print(\"Optimal threshold (max TPR–FPR):\", _[opt_idx])\n"
   ]
  },
  {
   "cell_type": "code",
   "execution_count": null,
   "id": "054ba255-4886-4784-baec-8b8d993ccc6c",
   "metadata": {},
   "outputs": [],
   "source": []
  },
  {
   "cell_type": "code",
   "execution_count": null,
   "id": "669684f2-f38c-4adf-ab1d-b6c48db9d1e2",
   "metadata": {},
   "outputs": [],
   "source": []
  }
 ],
 "metadata": {
  "kernelspec": {
   "display_name": "Python 3 (ipykernel)",
   "language": "python",
   "name": "python3"
  },
  "language_info": {
   "codemirror_mode": {
    "name": "ipython",
    "version": 3
   },
   "file_extension": ".py",
   "mimetype": "text/x-python",
   "name": "python",
   "nbconvert_exporter": "python",
   "pygments_lexer": "ipython3",
   "version": "3.10.12"
  }
 },
 "nbformat": 4,
 "nbformat_minor": 5
}
